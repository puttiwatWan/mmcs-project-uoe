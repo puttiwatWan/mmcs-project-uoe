{
 "cells": [
  {
   "cell_type": "code",
   "execution_count": 55,
   "id": "9b70f423-bd5f-4a00-b133-583c86661984",
   "metadata": {},
   "outputs": [
    {
     "name": "stdout",
     "output_type": "stream",
     "text": [
      "==== Starting Importing Data ====\n",
      "===== Total time used to import data: 0.419759 seconds\n"
     ]
    }
   ],
   "source": [
    "import sys\n",
    "sys.path.append('../')\n",
    "import numpy as np\n",
    "import xpress as xp\n",
    "import pandas as pd\n",
    "from itertools import chain\n",
    "from config.config import (COMPETITORS,\n",
    "                           FIRST_WEEK,\n",
    "                           MAX_CONVERSION_RATE,\n",
    "                           SLOT_DURATION,\n",
    "                           TOTAL_SLOTS,\n",
    "                           WEEK_CONSIDERED,\n",
    "                           YEAR,\n",
    "                            DEMOGRAPHIC_LIST,\n",
    "                            TOTAL_VIEW_COUNT\n",
    "                            )\n",
    "from utils.data_processing import (process_table,\n",
    "                                   DEMOGRAPHIC_LIST,\n",
    "                                   top_n_viable_film)\n",
    "from utils.schedule_processing import (combine_schedule,\n",
    "                                       consolidate_time_to_30_mins_slot,\n",
    "                                       dynamic_pricing,\n",
    "                                       return_selected_week,\n",
    "                                       get_date_from_week,\n",
    "                                       create_competitor_schedule,\n",
    "                                       decay_view_penelty,\n",
    "                                       process_current_week,\n",
    "                                       process_competitor_current_week,\n",
    "                                       update_schedule,\n",
    "                                       return_ads_30_mins,\n",
    "                                       sort_df_by_slot_day,\n",
    "                                       de_one_hot_columns_include_empty_slots)\n",
    "from datetime import datetime as dt\n",
    "from utils.advert_conversion_rates import generate_conversion_rates\n",
    "def import_data():\n",
    "    base_path = \"../data/\"\n",
    "\n",
    "    mov_df = pd.read_csv(base_path + 'movie_database.csv')\n",
    "\n",
    "    ch_0_conversion_rates_df = pd.read_csv(base_path + 'channel_0_conversion_rates.csv', index_col=[0])\n",
    "    ch_0_conversion_rates_df.index = pd.to_datetime(ch_0_conversion_rates_df.index)\n",
    "\n",
    "    ch_1_conversion_rates_df = pd.read_csv(base_path + 'channel_1_conversion_rates.csv', index_col=[0])\n",
    "    ch_1_conversion_rates_df.index = pd.to_datetime(ch_1_conversion_rates_df.index)\n",
    "\n",
    "    ch_2_conversion_rates_df = pd.read_csv(base_path + 'channel_2_conversion_rates.csv', index_col=[0])\n",
    "    ch_2_conversion_rates_df.index = pd.to_datetime(ch_2_conversion_rates_df.index)\n",
    "\n",
    "    ch_a_schedule_df = pd.read_csv(base_path + 'channel_A_schedule.csv', index_col=[0])\n",
    "    ch_a_schedule_df.index = pd.to_datetime(ch_a_schedule_df.index)\n",
    "\n",
    "    ch_0_schedule_df = pd.read_csv(base_path + 'channel_0_schedule.csv', index_col=[0])\n",
    "    ch_0_schedule_df.index = pd.to_datetime(ch_0_schedule_df.index)\n",
    "\n",
    "    ch_1_schedule_df = pd.read_csv(base_path + 'channel_1_schedule.csv', index_col=[0])\n",
    "    ch_1_schedule_df.index = pd.to_datetime(ch_1_schedule_df.index)\n",
    "\n",
    "    ch_2_schedule_df = pd.read_csv(base_path + 'channel_2_schedule.csv', index_col=[0])\n",
    "    ch_2_schedule_df.index = pd.to_datetime(ch_2_schedule_df.index)\n",
    "\n",
    "    return (mov_df, ch_0_conversion_rates_df, ch_1_conversion_rates_df, ch_2_conversion_rates_df, ch_a_schedule_df,\n",
    "            ch_0_schedule_df, ch_1_schedule_df, ch_2_schedule_df)\n",
    "\n",
    "\n",
    "print(\"==== Starting Importing Data ====\")\n",
    "# Import Data\n",
    "st = dt.now()\n",
    "(movie_df, channel_0_conversion_rates_df, channel_1_conversion_rates_df, channel_2_conversion_rates_df,\n",
    " channel_a_schedule_df, channel_0_schedule_df, channel_1_schedule_df, channel_2_schedule_df) = import_data()\n",
    "print(\"===== Total time used to import data: {0} seconds\".format((dt.now() - st).total_seconds()))\n",
    "\n"
   ]
  },
  {
   "cell_type": "code",
   "execution_count": 2,
   "id": "e878a3d5-3bc2-4906-ae94-e0d238533c92",
   "metadata": {},
   "outputs": [],
   "source": [
    "mov_df, ch_0_conversion_rates_df, ch_1_conversion_rates_df, ch_2_conversion_rates_df, ch_a_schedule_df, ch_0_schedule_df, ch_1_schedule_df, ch_2_schedule_df = import_data()"
   ]
  },
  {
   "cell_type": "code",
   "execution_count": 3,
   "id": "dcc00012-9751-48bf-b1e4-416874616be0",
   "metadata": {},
   "outputs": [
    {
     "name": "stderr",
     "output_type": "stream",
     "text": [
      "/home/punny/studying/mmcs/mmcs-project-uoe/data_exploration/../utils/data_processing.py:69: SettingWithCopyWarning: \n",
      "A value is trying to be set on a copy of a slice from a DataFrame.\n",
      "Try using .loc[row_indexer,col_indexer] = value instead\n",
      "\n",
      "See the caveats in the documentation: https://pandas.pydata.org/pandas-docs/stable/user_guide/indexing.html#returning-a-view-versus-a-copy\n",
      "  movie_df[f'total_expected_view_count'] = total_view_count\n",
      "/home/punny/studying/mmcs/mmcs-project-uoe/data_exploration/../utils/data_processing.py:71: SettingWithCopyWarning: \n",
      "A value is trying to be set on a copy of a slice from a DataFrame.\n",
      "Try using .loc[row_indexer,col_indexer] = value instead\n",
      "\n",
      "See the caveats in the documentation: https://pandas.pydata.org/pandas-docs/stable/user_guide/indexing.html#returning-a-view-versus-a-copy\n",
      "  movie_df['ad_slot_price'] = ad_slot_price(movie_df['license_fee'],\n",
      "/home/punny/studying/mmcs/mmcs-project-uoe/data_exploration/../utils/data_processing.py:74: SettingWithCopyWarning: \n",
      "A value is trying to be set on a copy of a slice from a DataFrame.\n",
      "Try using .loc[row_indexer,col_indexer] = value instead\n",
      "\n",
      "See the caveats in the documentation: https://pandas.pydata.org/pandas-docs/stable/user_guide/indexing.html#returning-a-view-versus-a-copy\n",
      "  movie_df['ad_slot_with_viewership'] = ad_slot_with_viewership(movie_df['license_fee'],\n",
      "/home/punny/studying/mmcs/mmcs-project-uoe/data_exploration/../utils/data_processing.py:78: SettingWithCopyWarning: \n",
      "A value is trying to be set on a copy of a slice from a DataFrame.\n",
      "Try using .loc[row_indexer,col_indexer] = value instead\n",
      "\n",
      "See the caveats in the documentation: https://pandas.pydata.org/pandas-docs/stable/user_guide/indexing.html#returning-a-view-versus-a-copy\n",
      "  movie_df['total_time_slots'] = movie_df['runtime_with_ads'] / SLOT_DURATION\n",
      "/home/punny/studying/mmcs/mmcs-project-uoe/data_exploration/../utils/data_processing.py:80: SettingWithCopyWarning: \n",
      "A value is trying to be set on a copy of a slice from a DataFrame.\n",
      "Try using .loc[row_indexer,col_indexer] = value instead\n",
      "\n",
      "See the caveats in the documentation: https://pandas.pydata.org/pandas-docs/stable/user_guide/indexing.html#returning-a-view-versus-a-copy\n",
      "  movie_df[\"genres\"] = movie_df[\"genres\"].apply(ast.literal_eval)\n"
     ]
    }
   ],
   "source": [
    "movie_df = process_table(mov_df)\n",
    "original_movie_df = movie_df.copy()\n",
    "\n",
    "# Create DF needed in the models\n",
    "competitor_schedules = [channel_0_schedule_df, channel_1_schedule_df, channel_2_schedule_df]\n",
    "channel_a_30_schedule_df = consolidate_time_to_30_mins_slot(channel_a_schedule_df)"
   ]
  },
  {
   "cell_type": "code",
   "execution_count": 75,
   "id": "4d9a1bcd-aa31-4983-b89f-83d0ee946fca",
   "metadata": {},
   "outputs": [],
   "source": [
    "week = 41"
   ]
  },
  {
   "cell_type": "code",
   "execution_count": 76,
   "id": "21854803-1074-4840-8919-014b18dd50c1",
   "metadata": {},
   "outputs": [],
   "source": [
    "week_40_mv = pd.read_csv(\"../out/week_41/movie_time.csv\")\n",
    "week_40_iv = pd.read_csv(\"../out/week_41/bought_ad_slots.csv\")"
   ]
  },
  {
   "cell_type": "code",
   "execution_count": 77,
   "id": "024c0be8-b30a-4d4a-9e2a-88843f68ac8e",
   "metadata": {},
   "outputs": [],
   "source": [
    "schedule_df = sort_df_by_slot_day(week_40_mv)\n",
    "schedule_df = de_one_hot_columns_include_empty_slots(schedule_df, channel_a_30_schedule_df.index)\n",
    "schedule_df = schedule_df.set_index('time')"
   ]
  },
  {
   "cell_type": "code",
   "execution_count": 78,
   "id": "f220f7e2-625a-45b9-8c17-37008f7f4317",
   "metadata": {},
   "outputs": [],
   "source": [
    "ch_a_schedule_df = consolidate_time_to_30_mins_slot(channel_a_schedule_df)\n",
    "ch_a_schedule_df = return_selected_week(ch_a_schedule_df, week)"
   ]
  },
  {
   "cell_type": "code",
   "execution_count": 80,
   "id": "a75cd5e8-3123-422c-a5db-1af4814e85f3",
   "metadata": {},
   "outputs": [],
   "source": [
    "ads_price_per_view = dynamic_pricing(\n",
    "            week=week, competitor_schedule_list=competitor_schedules)"
   ]
  },
  {
   "cell_type": "code",
   "execution_count": 82,
   "id": "2e08e83f-37e8-421f-afe3-5bc44911b1f7",
   "metadata": {},
   "outputs": [],
   "source": [
    "sum_df = pd.DataFrame()\n",
    "for demo in DEMOGRAPHIC_LIST:\n",
    "    sum_df[f'{demo}'] = all_df[f'{demo}_scaled_popularity'] * ch_a_schedule_df[\n",
    "    'prime_time_factor'].values * ch_a_schedule_df[\n",
    "    f'{demo}_baseline_view_count'].values * ads_price_per_view * TOTAL_VIEW_COUNT"
   ]
  },
  {
   "cell_type": "code",
   "execution_count": 86,
   "id": "d5f66410-71ac-4e66-b986-c17d7e489a92",
   "metadata": {},
   "outputs": [],
   "source": [
    "base_view = sum_df.sum(axis=1).sum()"
   ]
  },
  {
   "cell_type": "code",
   "execution_count": 87,
   "id": "1a04dd3f-bf0a-42e1-b235-156f3ae5167e",
   "metadata": {},
   "outputs": [],
   "source": [
    "licensing_fee = all_df.drop_duplicates(subset='content')[['license_fee']].sum()"
   ]
  },
  {
   "cell_type": "code",
   "execution_count": 85,
   "id": "182fa7a7-316e-47db-a5e2-9a4a242c7207",
   "metadata": {},
   "outputs": [
    {
     "data": {
      "text/plain": [
       "license_fee    1.518835e+07\n",
       "dtype: float64"
      ]
     },
     "execution_count": 85,
     "metadata": {},
     "output_type": "execute_result"
    }
   ],
   "source": [
    "base_view - licensing_fee"
   ]
  },
  {
   "cell_type": "code",
   "execution_count": 32,
   "id": "17087999-16f1-4592-a1ae-39e12b92add7",
   "metadata": {},
   "outputs": [
    {
     "name": "stdout",
     "output_type": "stream",
     "text": [
      "['children_scaled_popularity', 'adults_scaled_popularity', 'retirees_scaled_popularity']\n"
     ]
    },
    {
     "ename": "ValueError",
     "evalue": "Columns must be same length as key",
     "output_type": "error",
     "traceback": [
      "\u001b[0;31m---------------------------------------------------------------------------\u001b[0m",
      "\u001b[0;31mValueError\u001b[0m                                Traceback (most recent call last)",
      "\u001b[0;32m/tmp/ipykernel_375604/3226315417.py\u001b[0m in \u001b[0;36m?\u001b[0;34m()\u001b[0m\n\u001b[1;32m      4\u001b[0m \u001b[0;32mfor\u001b[0m \u001b[0mcolumns\u001b[0m \u001b[0;32min\u001b[0m \u001b[0mdemo_columns\u001b[0m\u001b[0;34m:\u001b[0m\u001b[0;34m\u001b[0m\u001b[0;34m\u001b[0m\u001b[0m\n\u001b[1;32m      5\u001b[0m     \u001b[0mtemp_sum\u001b[0m \u001b[0;34m=\u001b[0m \u001b[0mmovie_df\u001b[0m\u001b[0;34m.\u001b[0m\u001b[0mloc\u001b[0m\u001b[0;34m[\u001b[0m\u001b[0;34m:\u001b[0m\u001b[0;34m,\u001b[0m \u001b[0;34m[\u001b[0m\u001b[0mcolumns\u001b[0m\u001b[0;34m]\u001b[0m\u001b[0;34m]\u001b[0m \u001b[0;34m+\u001b[0m \u001b[0mtemp_sum\u001b[0m\u001b[0;34m\u001b[0m\u001b[0;34m\u001b[0m\u001b[0m\n\u001b[1;32m      6\u001b[0m \u001b[0;34m\u001b[0m\u001b[0m\n\u001b[1;32m      7\u001b[0m \u001b[0;34m\u001b[0m\u001b[0m\n\u001b[0;32m----> 8\u001b[0;31m \u001b[0mmovie_df\u001b[0m\u001b[0;34m[\u001b[0m\u001b[0;34m'total_scaled_popularity'\u001b[0m\u001b[0;34m]\u001b[0m \u001b[0;34m=\u001b[0m \u001b[0mtemp_sum\u001b[0m\u001b[0;34m\u001b[0m\u001b[0;34m\u001b[0m\u001b[0m\n\u001b[0m\u001b[1;32m      9\u001b[0m \u001b[0mall_df\u001b[0m \u001b[0;34m=\u001b[0m \u001b[0mschedule_df\u001b[0m\u001b[0;34m.\u001b[0m\u001b[0mmerge\u001b[0m\u001b[0;34m(\u001b[0m\u001b[0mmovie_df\u001b[0m\u001b[0;34m,\u001b[0m \u001b[0mleft_on\u001b[0m\u001b[0;34m=\u001b[0m\u001b[0;34m\"content\"\u001b[0m\u001b[0;34m,\u001b[0m \u001b[0mright_on\u001b[0m\u001b[0;34m=\u001b[0m\u001b[0;34m\"title\"\u001b[0m\u001b[0;34m,\u001b[0m \u001b[0mhow\u001b[0m\u001b[0;34m=\u001b[0m\u001b[0;34m\"left\"\u001b[0m\u001b[0;34m)\u001b[0m\u001b[0;34m\u001b[0m\u001b[0;34m\u001b[0m\u001b[0m\n",
      "\u001b[0;32m~/anaconda3/lib/python3.12/site-packages/pandas/core/frame.py\u001b[0m in \u001b[0;36m?\u001b[0;34m(self, key, value)\u001b[0m\n\u001b[1;32m   4297\u001b[0m             \u001b[0mself\u001b[0m\u001b[0;34m.\u001b[0m\u001b[0m_setitem_frame\u001b[0m\u001b[0;34m(\u001b[0m\u001b[0mkey\u001b[0m\u001b[0;34m,\u001b[0m \u001b[0mvalue\u001b[0m\u001b[0;34m)\u001b[0m\u001b[0;34m\u001b[0m\u001b[0;34m\u001b[0m\u001b[0m\n\u001b[1;32m   4298\u001b[0m         \u001b[0;32melif\u001b[0m \u001b[0misinstance\u001b[0m\u001b[0;34m(\u001b[0m\u001b[0mkey\u001b[0m\u001b[0;34m,\u001b[0m \u001b[0;34m(\u001b[0m\u001b[0mSeries\u001b[0m\u001b[0;34m,\u001b[0m \u001b[0mnp\u001b[0m\u001b[0;34m.\u001b[0m\u001b[0mndarray\u001b[0m\u001b[0;34m,\u001b[0m \u001b[0mlist\u001b[0m\u001b[0;34m,\u001b[0m \u001b[0mIndex\u001b[0m\u001b[0;34m)\u001b[0m\u001b[0;34m)\u001b[0m\u001b[0;34m:\u001b[0m\u001b[0;34m\u001b[0m\u001b[0;34m\u001b[0m\u001b[0m\n\u001b[1;32m   4299\u001b[0m             \u001b[0mself\u001b[0m\u001b[0;34m.\u001b[0m\u001b[0m_setitem_array\u001b[0m\u001b[0;34m(\u001b[0m\u001b[0mkey\u001b[0m\u001b[0;34m,\u001b[0m \u001b[0mvalue\u001b[0m\u001b[0;34m)\u001b[0m\u001b[0;34m\u001b[0m\u001b[0;34m\u001b[0m\u001b[0m\n\u001b[1;32m   4300\u001b[0m         \u001b[0;32melif\u001b[0m \u001b[0misinstance\u001b[0m\u001b[0;34m(\u001b[0m\u001b[0mvalue\u001b[0m\u001b[0;34m,\u001b[0m \u001b[0mDataFrame\u001b[0m\u001b[0;34m)\u001b[0m\u001b[0;34m:\u001b[0m\u001b[0;34m\u001b[0m\u001b[0;34m\u001b[0m\u001b[0m\n\u001b[0;32m-> 4301\u001b[0;31m             \u001b[0mself\u001b[0m\u001b[0;34m.\u001b[0m\u001b[0m_set_item_frame_value\u001b[0m\u001b[0;34m(\u001b[0m\u001b[0mkey\u001b[0m\u001b[0;34m,\u001b[0m \u001b[0mvalue\u001b[0m\u001b[0;34m)\u001b[0m\u001b[0;34m\u001b[0m\u001b[0;34m\u001b[0m\u001b[0m\n\u001b[0m\u001b[1;32m   4302\u001b[0m         elif (\n\u001b[1;32m   4303\u001b[0m             \u001b[0mis_list_like\u001b[0m\u001b[0;34m(\u001b[0m\u001b[0mvalue\u001b[0m\u001b[0;34m)\u001b[0m\u001b[0;34m\u001b[0m\u001b[0;34m\u001b[0m\u001b[0m\n\u001b[1;32m   4304\u001b[0m             \u001b[0;32mand\u001b[0m \u001b[0;32mnot\u001b[0m \u001b[0mself\u001b[0m\u001b[0;34m.\u001b[0m\u001b[0mcolumns\u001b[0m\u001b[0;34m.\u001b[0m\u001b[0mis_unique\u001b[0m\u001b[0;34m\u001b[0m\u001b[0;34m\u001b[0m\u001b[0m\n",
      "\u001b[0;32m~/anaconda3/lib/python3.12/site-packages/pandas/core/frame.py\u001b[0m in \u001b[0;36m?\u001b[0;34m(self, key, value)\u001b[0m\n\u001b[1;32m   4425\u001b[0m             \u001b[0mloc\u001b[0m \u001b[0;34m=\u001b[0m \u001b[0mself\u001b[0m\u001b[0;34m.\u001b[0m\u001b[0mcolumns\u001b[0m\u001b[0;34m.\u001b[0m\u001b[0mget_loc\u001b[0m\u001b[0;34m(\u001b[0m\u001b[0mkey\u001b[0m\u001b[0;34m)\u001b[0m\u001b[0;34m\u001b[0m\u001b[0;34m\u001b[0m\u001b[0m\n\u001b[1;32m   4426\u001b[0m             \u001b[0mcols\u001b[0m \u001b[0;34m=\u001b[0m \u001b[0mself\u001b[0m\u001b[0;34m.\u001b[0m\u001b[0mcolumns\u001b[0m\u001b[0;34m[\u001b[0m\u001b[0mloc\u001b[0m\u001b[0;34m]\u001b[0m\u001b[0;34m\u001b[0m\u001b[0;34m\u001b[0m\u001b[0m\n\u001b[1;32m   4427\u001b[0m             \u001b[0mlen_cols\u001b[0m \u001b[0;34m=\u001b[0m \u001b[0;36m1\u001b[0m \u001b[0;32mif\u001b[0m \u001b[0mis_scalar\u001b[0m\u001b[0;34m(\u001b[0m\u001b[0mcols\u001b[0m\u001b[0;34m)\u001b[0m \u001b[0;32mor\u001b[0m \u001b[0misinstance\u001b[0m\u001b[0;34m(\u001b[0m\u001b[0mcols\u001b[0m\u001b[0;34m,\u001b[0m \u001b[0mtuple\u001b[0m\u001b[0;34m)\u001b[0m \u001b[0;32melse\u001b[0m \u001b[0mlen\u001b[0m\u001b[0;34m(\u001b[0m\u001b[0mcols\u001b[0m\u001b[0;34m)\u001b[0m\u001b[0;34m\u001b[0m\u001b[0;34m\u001b[0m\u001b[0m\n\u001b[1;32m   4428\u001b[0m             \u001b[0;32mif\u001b[0m \u001b[0mlen_cols\u001b[0m \u001b[0;34m!=\u001b[0m \u001b[0mlen\u001b[0m\u001b[0;34m(\u001b[0m\u001b[0mvalue\u001b[0m\u001b[0;34m.\u001b[0m\u001b[0mcolumns\u001b[0m\u001b[0;34m)\u001b[0m\u001b[0;34m:\u001b[0m\u001b[0;34m\u001b[0m\u001b[0;34m\u001b[0m\u001b[0m\n\u001b[0;32m-> 4429\u001b[0;31m                 \u001b[0;32mraise\u001b[0m \u001b[0mValueError\u001b[0m\u001b[0;34m(\u001b[0m\u001b[0;34m\"Columns must be same length as key\"\u001b[0m\u001b[0;34m)\u001b[0m\u001b[0;34m\u001b[0m\u001b[0;34m\u001b[0m\u001b[0m\n\u001b[0m\u001b[1;32m   4430\u001b[0m \u001b[0;34m\u001b[0m\u001b[0m\n\u001b[1;32m   4431\u001b[0m             \u001b[0;31m# align right-hand-side columns if self.columns\u001b[0m\u001b[0;34m\u001b[0m\u001b[0;34m\u001b[0m\u001b[0m\n\u001b[1;32m   4432\u001b[0m             \u001b[0;31m# is multi-index and self[key] is a sub-frame\u001b[0m\u001b[0;34m\u001b[0m\u001b[0;34m\u001b[0m\u001b[0m\n",
      "\u001b[0;31mValueError\u001b[0m: Columns must be same length as key"
     ]
    }
   ],
   "source": []
  },
  {
   "cell_type": "code",
   "execution_count": 19,
   "id": "6891cd80-ba8f-4b80-8911-b2807503cda0",
   "metadata": {},
   "outputs": [
    {
     "data": {
      "text/html": [
       "<div>\n",
       "<style scoped>\n",
       "    .dataframe tbody tr th:only-of-type {\n",
       "        vertical-align: middle;\n",
       "    }\n",
       "\n",
       "    .dataframe tbody tr th {\n",
       "        vertical-align: top;\n",
       "    }\n",
       "\n",
       "    .dataframe thead th {\n",
       "        text-align: right;\n",
       "    }\n",
       "</style>\n",
       "<table border=\"1\" class=\"dataframe\">\n",
       "  <thead>\n",
       "    <tr style=\"text-align: right;\">\n",
       "      <th></th>\n",
       "      <th>adults_scaled_popularity</th>\n",
       "      <th>children_scaled_popularity</th>\n",
       "      <th>retirees_scaled_popularity</th>\n",
       "    </tr>\n",
       "  </thead>\n",
       "  <tbody>\n",
       "    <tr>\n",
       "      <th>0</th>\n",
       "      <td>NaN</td>\n",
       "      <td>NaN</td>\n",
       "      <td>NaN</td>\n",
       "    </tr>\n",
       "    <tr>\n",
       "      <th>1</th>\n",
       "      <td>NaN</td>\n",
       "      <td>NaN</td>\n",
       "      <td>NaN</td>\n",
       "    </tr>\n",
       "    <tr>\n",
       "      <th>2</th>\n",
       "      <td>NaN</td>\n",
       "      <td>NaN</td>\n",
       "      <td>NaN</td>\n",
       "    </tr>\n",
       "    <tr>\n",
       "      <th>3</th>\n",
       "      <td>NaN</td>\n",
       "      <td>NaN</td>\n",
       "      <td>NaN</td>\n",
       "    </tr>\n",
       "    <tr>\n",
       "      <th>4</th>\n",
       "      <td>NaN</td>\n",
       "      <td>NaN</td>\n",
       "      <td>NaN</td>\n",
       "    </tr>\n",
       "    <tr>\n",
       "      <th>...</th>\n",
       "      <td>...</td>\n",
       "      <td>...</td>\n",
       "      <td>...</td>\n",
       "    </tr>\n",
       "    <tr>\n",
       "      <th>5915</th>\n",
       "      <td>NaN</td>\n",
       "      <td>NaN</td>\n",
       "      <td>NaN</td>\n",
       "    </tr>\n",
       "    <tr>\n",
       "      <th>5916</th>\n",
       "      <td>NaN</td>\n",
       "      <td>NaN</td>\n",
       "      <td>NaN</td>\n",
       "    </tr>\n",
       "    <tr>\n",
       "      <th>5917</th>\n",
       "      <td>NaN</td>\n",
       "      <td>NaN</td>\n",
       "      <td>NaN</td>\n",
       "    </tr>\n",
       "    <tr>\n",
       "      <th>5918</th>\n",
       "      <td>NaN</td>\n",
       "      <td>NaN</td>\n",
       "      <td>NaN</td>\n",
       "    </tr>\n",
       "    <tr>\n",
       "      <th>5919</th>\n",
       "      <td>NaN</td>\n",
       "      <td>NaN</td>\n",
       "      <td>NaN</td>\n",
       "    </tr>\n",
       "  </tbody>\n",
       "</table>\n",
       "<p>5788 rows × 3 columns</p>\n",
       "</div>"
      ],
      "text/plain": [
       "      adults_scaled_popularity  children_scaled_popularity  \\\n",
       "0                          NaN                         NaN   \n",
       "1                          NaN                         NaN   \n",
       "2                          NaN                         NaN   \n",
       "3                          NaN                         NaN   \n",
       "4                          NaN                         NaN   \n",
       "...                        ...                         ...   \n",
       "5915                       NaN                         NaN   \n",
       "5916                       NaN                         NaN   \n",
       "5917                       NaN                         NaN   \n",
       "5918                       NaN                         NaN   \n",
       "5919                       NaN                         NaN   \n",
       "\n",
       "      retirees_scaled_popularity  \n",
       "0                            NaN  \n",
       "1                            NaN  \n",
       "2                            NaN  \n",
       "3                            NaN  \n",
       "4                            NaN  \n",
       "...                          ...  \n",
       "5915                         NaN  \n",
       "5916                         NaN  \n",
       "5917                         NaN  \n",
       "5918                         NaN  \n",
       "5919                         NaN  \n",
       "\n",
       "[5788 rows x 3 columns]"
      ]
     },
     "execution_count": 19,
     "metadata": {},
     "output_type": "execute_result"
    }
   ],
   "source": [
    "temp_sum"
   ]
  },
  {
   "cell_type": "code",
   "execution_count": null,
   "id": "f0e66e35-adb8-4820-bc91-8d573dc5901d",
   "metadata": {},
   "outputs": [],
   "source": [
    "all_df[['total_scaled_popularity', 'license_fee']]"
   ]
  },
  {
   "cell_type": "code",
   "execution_count": null,
   "id": "01943b61-8171-4e5b-aba8-0ae7b2197bc4",
   "metadata": {},
   "outputs": [],
   "source": [
    "movie_df"
   ]
  },
  {
   "cell_type": "code",
   "execution_count": null,
   "id": "d1420db8-a4c0-4a88-8412-4cbb6c78ba85",
   "metadata": {},
   "outputs": [],
   "source": []
  },
  {
   "cell_type": "code",
   "execution_count": null,
   "id": "927c593e-7d37-4b9d-a01f-3b3b48ae07bb",
   "metadata": {},
   "outputs": [],
   "source": [
    "schedule_df"
   ]
  },
  {
   "cell_type": "code",
   "execution_count": null,
   "id": "6154d500-5de0-4132-b15a-ea9717789e02",
   "metadata": {},
   "outputs": [],
   "source": [
    "schedule_df['license_fee']"
   ]
  },
  {
   "cell_type": "code",
   "execution_count": null,
   "id": "f52e7529-75ee-4bda-b26d-1ed40a673254",
   "metadata": {},
   "outputs": [],
   "source": [
    "schedule_df"
   ]
  },
  {
   "cell_type": "code",
   "execution_count": null,
   "id": "56c3f1c7-9f46-4f75-a834-911ea5dda24d",
   "metadata": {},
   "outputs": [],
   "source": [
    "week_40_iv"
   ]
  },
  {
   "cell_type": "code",
   "execution_count": 99,
   "id": "0c21cfbc-66cd-4ca0-bd11-0ddc663cc30c",
   "metadata": {},
   "outputs": [
    {
     "data": {
      "text/plain": [
       "0       2.138460\n",
       "1       2.200000\n",
       "2       2.400000\n",
       "3       2.108039\n",
       "4       2.200000\n",
       "          ...   \n",
       "5915    0.160167\n",
       "5916    0.000003\n",
       "5917    0.000003\n",
       "5918    0.000002\n",
       "5919    0.202456\n",
       "Length: 5920, dtype: float64"
      ]
     },
     "execution_count": 99,
     "metadata": {},
     "output_type": "execute_result"
    }
   ],
   "source": [
    "movie_df[demo_columns].sum(axis=1)"
   ]
  },
  {
   "cell_type": "code",
   "execution_count": 102,
   "id": "6a602a04-9af0-4394-9d62-2ec62e3dc4e9",
   "metadata": {},
   "outputs": [],
   "source": [
    "demo_columns = [f'{demo}_scaled_popularity' for demo in DEMOGRAPHIC_LIST]\n",
    "demo_df = movie_df.loc[:,  demo_columns]\n",
    "max_view = demo_df.max(axis=1).to_numpy()\n",
    "movie_df['total_scaled_popularity'] = movie_df[demo_columns].sum(axis=1)\n",
    "mean_view = movie_df.loc[:, ['total_scaled_popularity']].to_numpy().flatten()\n",
    "# licensing_fee = movie_df['license_fee'].to_numpy().flatten()"
   ]
  },
  {
   "cell_type": "code",
   "execution_count": 104,
   "id": "7f15fa12-569b-4d21-b4aa-5795ba7a352d",
   "metadata": {},
   "outputs": [
    {
     "ename": "KeyError",
     "evalue": "'license_fee'",
     "output_type": "error",
     "traceback": [
      "\u001b[0;31m---------------------------------------------------------------------------\u001b[0m",
      "\u001b[0;31mKeyError\u001b[0m                                  Traceback (most recent call last)",
      "File \u001b[0;32m~/anaconda3/lib/python3.12/site-packages/pandas/core/indexes/base.py:3805\u001b[0m, in \u001b[0;36mIndex.get_loc\u001b[0;34m(self, key)\u001b[0m\n\u001b[1;32m   3804\u001b[0m \u001b[38;5;28;01mtry\u001b[39;00m:\n\u001b[0;32m-> 3805\u001b[0m     \u001b[38;5;28;01mreturn\u001b[39;00m \u001b[38;5;28mself\u001b[39m\u001b[38;5;241m.\u001b[39m_engine\u001b[38;5;241m.\u001b[39mget_loc(casted_key)\n\u001b[1;32m   3806\u001b[0m \u001b[38;5;28;01mexcept\u001b[39;00m \u001b[38;5;167;01mKeyError\u001b[39;00m \u001b[38;5;28;01mas\u001b[39;00m err:\n",
      "File \u001b[0;32mindex.pyx:167\u001b[0m, in \u001b[0;36mpandas._libs.index.IndexEngine.get_loc\u001b[0;34m()\u001b[0m\n",
      "File \u001b[0;32mindex.pyx:196\u001b[0m, in \u001b[0;36mpandas._libs.index.IndexEngine.get_loc\u001b[0;34m()\u001b[0m\n",
      "File \u001b[0;32mpandas/_libs/hashtable_class_helper.pxi:7081\u001b[0m, in \u001b[0;36mpandas._libs.hashtable.PyObjectHashTable.get_item\u001b[0;34m()\u001b[0m\n",
      "File \u001b[0;32mpandas/_libs/hashtable_class_helper.pxi:7089\u001b[0m, in \u001b[0;36mpandas._libs.hashtable.PyObjectHashTable.get_item\u001b[0;34m()\u001b[0m\n",
      "\u001b[0;31mKeyError\u001b[0m: 'license_fee'",
      "\nThe above exception was the direct cause of the following exception:\n",
      "\u001b[0;31mKeyError\u001b[0m                                  Traceback (most recent call last)",
      "Cell \u001b[0;32mIn[104], line 1\u001b[0m\n\u001b[0;32m----> 1\u001b[0m licensing_fee \u001b[38;5;241m=\u001b[39m movie_df[\u001b[38;5;124m'\u001b[39m\u001b[38;5;124mlicense_fee\u001b[39m\u001b[38;5;124m'\u001b[39m]\u001b[38;5;241m.\u001b[39mto_numpy()\u001b[38;5;241m.\u001b[39mflatten()\n",
      "File \u001b[0;32m~/anaconda3/lib/python3.12/site-packages/pandas/core/frame.py:4102\u001b[0m, in \u001b[0;36mDataFrame.__getitem__\u001b[0;34m(self, key)\u001b[0m\n\u001b[1;32m   4100\u001b[0m \u001b[38;5;28;01mif\u001b[39;00m \u001b[38;5;28mself\u001b[39m\u001b[38;5;241m.\u001b[39mcolumns\u001b[38;5;241m.\u001b[39mnlevels \u001b[38;5;241m>\u001b[39m \u001b[38;5;241m1\u001b[39m:\n\u001b[1;32m   4101\u001b[0m     \u001b[38;5;28;01mreturn\u001b[39;00m \u001b[38;5;28mself\u001b[39m\u001b[38;5;241m.\u001b[39m_getitem_multilevel(key)\n\u001b[0;32m-> 4102\u001b[0m indexer \u001b[38;5;241m=\u001b[39m \u001b[38;5;28mself\u001b[39m\u001b[38;5;241m.\u001b[39mcolumns\u001b[38;5;241m.\u001b[39mget_loc(key)\n\u001b[1;32m   4103\u001b[0m \u001b[38;5;28;01mif\u001b[39;00m is_integer(indexer):\n\u001b[1;32m   4104\u001b[0m     indexer \u001b[38;5;241m=\u001b[39m [indexer]\n",
      "File \u001b[0;32m~/anaconda3/lib/python3.12/site-packages/pandas/core/indexes/base.py:3812\u001b[0m, in \u001b[0;36mIndex.get_loc\u001b[0;34m(self, key)\u001b[0m\n\u001b[1;32m   3807\u001b[0m     \u001b[38;5;28;01mif\u001b[39;00m \u001b[38;5;28misinstance\u001b[39m(casted_key, \u001b[38;5;28mslice\u001b[39m) \u001b[38;5;129;01mor\u001b[39;00m (\n\u001b[1;32m   3808\u001b[0m         \u001b[38;5;28misinstance\u001b[39m(casted_key, abc\u001b[38;5;241m.\u001b[39mIterable)\n\u001b[1;32m   3809\u001b[0m         \u001b[38;5;129;01mand\u001b[39;00m \u001b[38;5;28many\u001b[39m(\u001b[38;5;28misinstance\u001b[39m(x, \u001b[38;5;28mslice\u001b[39m) \u001b[38;5;28;01mfor\u001b[39;00m x \u001b[38;5;129;01min\u001b[39;00m casted_key)\n\u001b[1;32m   3810\u001b[0m     ):\n\u001b[1;32m   3811\u001b[0m         \u001b[38;5;28;01mraise\u001b[39;00m InvalidIndexError(key)\n\u001b[0;32m-> 3812\u001b[0m     \u001b[38;5;28;01mraise\u001b[39;00m \u001b[38;5;167;01mKeyError\u001b[39;00m(key) \u001b[38;5;28;01mfrom\u001b[39;00m \u001b[38;5;21;01merr\u001b[39;00m\n\u001b[1;32m   3813\u001b[0m \u001b[38;5;28;01mexcept\u001b[39;00m \u001b[38;5;167;01mTypeError\u001b[39;00m:\n\u001b[1;32m   3814\u001b[0m     \u001b[38;5;66;03m# If we have a listlike key, _check_indexing_error will raise\u001b[39;00m\n\u001b[1;32m   3815\u001b[0m     \u001b[38;5;66;03m#  InvalidIndexError. Otherwise we fall through and re-raise\u001b[39;00m\n\u001b[1;32m   3816\u001b[0m     \u001b[38;5;66;03m#  the TypeError.\u001b[39;00m\n\u001b[1;32m   3817\u001b[0m     \u001b[38;5;28mself\u001b[39m\u001b[38;5;241m.\u001b[39m_check_indexing_error(key)\n",
      "\u001b[0;31mKeyError\u001b[0m: 'license_fee'"
     ]
    }
   ],
   "source": [
    "licensing_fee = movie_df['license_fee'].to_numpy().flatten()"
   ]
  },
  {
   "cell_type": "code",
   "execution_count": 103,
   "id": "4b2ecc12-2416-49bc-80b2-557e4eb7316e",
   "metadata": {},
   "outputs": [
    {
     "data": {
      "text/plain": [
       "array([2.1384604e+00, 2.2000000e+00, 2.4000000e+00, ..., 3.0000000e-06,\n",
       "       2.4000000e-06, 2.0245560e-01])"
      ]
     },
     "execution_count": 103,
     "metadata": {},
     "output_type": "execute_result"
    }
   ],
   "source": [
    "mean_view"
   ]
  },
  {
   "cell_type": "code",
   "execution_count": null,
   "id": "bc2ddb89-cf4d-4759-9676-370451afe000",
   "metadata": {},
   "outputs": [],
   "source": []
  }
 ],
 "metadata": {
  "kernelspec": {
   "display_name": "Python 3 (ipykernel)",
   "language": "python",
   "name": "python3"
  },
  "language_info": {
   "codemirror_mode": {
    "name": "ipython",
    "version": 3
   },
   "file_extension": ".py",
   "mimetype": "text/x-python",
   "name": "python",
   "nbconvert_exporter": "python",
   "pygments_lexer": "ipython3",
   "version": "3.12.2"
  }
 },
 "nbformat": 4,
 "nbformat_minor": 5
}
